{
 "cells": [
  {
   "cell_type": "markdown",
   "id": "1425240f",
   "metadata": {},
   "source": [
    "# The StatQuest Introduction to PyTorch!\n",
    "In this jupyter notebook we will follow [StatQuest's video](https://youtu.be/FHdlXe1bSe4?si=z22AC1gqMVMqJ3HW)"
   ]
  },
  {
   "cell_type": "code",
   "execution_count": 1,
   "id": "418f93d6",
   "metadata": {},
   "outputs": [],
   "source": [
    "# Importing libraries\n",
    "import torch\n",
    "import torch.nn as nn\n",
    "import torch.nn.functional as F\n",
    "from torch.optim import SGD\n",
    "\n",
    "import matplotlib.pyplot as plt\n",
    "import seaborn as sns"
   ]
  },
  {
   "cell_type": "markdown",
   "id": "51cfa9f3",
   "metadata": {},
   "source": []
  }
 ],
 "metadata": {
  "kernelspec": {
   "display_name": ".venv",
   "language": "python",
   "name": "python3"
  },
  "language_info": {
   "codemirror_mode": {
    "name": "ipython",
    "version": 3
   },
   "file_extension": ".py",
   "mimetype": "text/x-python",
   "name": "python",
   "nbconvert_exporter": "python",
   "pygments_lexer": "ipython3",
   "version": "3.13.3"
  }
 },
 "nbformat": 4,
 "nbformat_minor": 5
}
